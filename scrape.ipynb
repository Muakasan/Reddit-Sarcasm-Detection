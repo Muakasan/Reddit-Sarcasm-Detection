{
 "cells": [
  {
   "cell_type": "code",
   "execution_count": 1,
   "metadata": {
    "collapsed": true,
    "deletable": true,
    "editable": true
   },
   "outputs": [],
   "source": [
    "import pandas as pd"
   ]
  },
  {
   "cell_type": "code",
   "execution_count": null,
   "metadata": {
    "collapsed": true,
    "deletable": true,
    "editable": true
   },
   "outputs": [],
   "source": [
    "df = pd.read_csv(\"sarcasm-annos-emnlp13.tsv\", sep=\"\\t\", names=[\"tweet_id\", \"sarcastic\"])\n",
    "df"
   ]
  },
  {
   "cell_type": "code",
   "execution_count": 3,
   "metadata": {
    "collapsed": true,
    "deletable": true,
    "editable": true
   },
   "outputs": [],
   "source": [
    "from TwitterAPI import TwitterAPI\n",
    "consumer_key = ''\n",
    "consumer_secret = ''\n",
    "access_token_key = ''\n",
    "access_token_secret = ''\n",
    "api = TwitterAPI(consumer_key, consumer_secret, access_token_key, access_token_secret)"
   ]
  },
  {
   "cell_type": "code",
   "execution_count": 8,
   "metadata": {
    "collapsed": false,
    "deletable": true,
    "editable": true
   },
   "outputs": [
    {
     "data": {
      "text/plain": [
       "<TwitterAPI.TwitterAPI.TwitterAPI at 0x7f079c646080>"
      ]
     },
     "execution_count": 8,
     "metadata": {},
     "output_type": "execute_result"
    }
   ],
   "source": [
    "api"
   ]
  },
  {
   "cell_type": "code",
   "execution_count": null,
   "metadata": {
    "collapsed": true,
    "deletable": true,
    "editable": true
   },
   "outputs": [],
   "source": [
    "r = api.request('statuses/show/:{}'.format(210462857140252672))\n",
    "print(r.text)"
   ]
  },
  {
   "cell_type": "code",
   "execution_count": 13,
   "metadata": {
    "collapsed": false,
    "deletable": true,
    "editable": true
   },
   "outputs": [],
   "source": [
    "page = 0 #change page variable from 0 to 3 to get all 3000 tweets\n",
    "with open('scraped_tweets_'+str(page)+'.tsv', 'w') as the_file:\n",
    "    for row_index in range(page*750, (page+1)*750):\n",
    "        r = df.iloc[row_index]\n",
    "        tweet_id = r[\"tweet_id\"]\n",
    "        sarcastic = r[\"sarcastic\"] == \"SARCASM\"\n",
    "        r = api.request('statuses/show/:{}'.format(tweet_id))\n",
    "        tweet_text = r.text\n",
    "        the_file.write(str(tweet_text) + '\\t' + str(int(sarcastic)) + '\\n')"
   ]
  },
  {
   "cell_type": "code",
   "execution_count": null,
   "metadata": {
    "collapsed": true,
    "deletable": true,
    "editable": true
   },
   "outputs": [],
   "source": [
    "df_api_0 = df = pd.read_csv(\"scraped_tweets_0.tsv\", sep=\"\\t\", names=[\"tweet\", \"sarcastic\"])\n",
    "df_api_1 = df = pd.read_csv(\"scraped_tweets_0.tsv\", sep=\"\\t\", names=[\"tweet\", \"sarcastic\"])\n",
    "df_api_2 = df = pd.read_csv(\"scraped_tweets_0.tsv\", sep=\"\\t\", names=[\"tweet\", \"sarcastic\"])\n",
    "df_api_3 = df = pd.read_csv(\"scraped_tweets_0.tsv\", sep=\"\\t\", names=[\"tweet\", \"sarcastic\"])\n",
    "df_api = pd.concat([df_api_0, df_api_1, df_api_2, df_api_3])\n",
    "df_api"
   ]
  },
  {
   "cell_type": "code",
   "execution_count": 4,
   "metadata": {
    "collapsed": false,
    "deletable": true,
    "editable": true
   },
   "outputs": [],
   "source": [
    "import json\n",
    "import re\n",
    "\n",
    "def tweet_text(row):\n",
    "    parsed_json = json.loads(row[\"tweet\"])\n",
    "    return parsed_json[\"text\"]\n",
    "\n",
    "insensitive_sarcasm = re.compile(re.escape('#sarcasm'), re.IGNORECASE)\n",
    "insensitive_sarcastic = re.compile(re.escape('#sarcastic'), re.IGNORECASE)\n",
    "\n",
    "def clean_tweet_text(row):\n",
    "    return insensitive_sarcasm.sub('', insensitive_sarcastic.sub('', row[\"tweet_text\"]))\n",
    "    "
   ]
  },
  {
   "cell_type": "code",
   "execution_count": null,
   "metadata": {
    "collapsed": true,
    "deletable": true,
    "editable": true
   },
   "outputs": [],
   "source": [
    "\n",
    "df_clean = df_api[df_api[\"tweet\"].str.startswith('{\"errors\":') == False]\n",
    "#https://stackoverflow.com/questions/26886653/pandas-create-new-column-based-on-values-from-other-columns\n",
    "df_clean['tweet_text'] = df_clean.apply (lambda row: tweet_text(row),axis=1)\n",
    "df_clean['clean_tweet_text'] = df_clean.apply (lambda row: clean_tweet_text(row),axis=1)\n",
    "df_clean"
   ]
  },
  {
   "cell_type": "code",
   "execution_count": 6,
   "metadata": {
    "collapsed": true,
    "deletable": true,
    "editable": true
   },
   "outputs": [],
   "source": [
    "df_clean.to_csv(\"clean_tweet_data.tsv\", sep='\\t')"
   ]
  },
  {
   "cell_type": "code",
   "execution_count": null,
   "metadata": {
    "collapsed": true,
    "deletable": true,
    "editable": true
   },
   "outputs": [],
   "source": []
  }
 ],
 "metadata": {
  "kernelspec": {
   "display_name": "Python 3",
   "language": "python",
   "name": "python3"
  },
  "language_info": {
   "codemirror_mode": {
    "name": "ipython",
    "version": 3
   },
   "file_extension": ".py",
   "mimetype": "text/x-python",
   "name": "python",
   "nbconvert_exporter": "python",
   "pygments_lexer": "ipython3",
   "version": "3.5.2"
  }
 },
 "nbformat": 4,
 "nbformat_minor": 2
}
